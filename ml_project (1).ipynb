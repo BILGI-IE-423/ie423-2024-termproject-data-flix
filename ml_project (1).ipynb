{
  "nbformat": 4,
  "nbformat_minor": 0,
  "metadata": {
    "colab": {
      "provenance": []
    },
    "kernelspec": {
      "name": "python3",
      "display_name": "Python 3"
    },
    "language_info": {
      "name": "python"
    }
  },
  "cells": [
    {
      "cell_type": "code",
      "execution_count": null,
      "metadata": {
        "id": "tM-s5bwLzCSM"
      },
      "outputs": [],
      "source": [
        "import numpy as np\n",
        "import pandas as pd\n",
        "import seaborn as sns\n",
        "import matplotlib.pyplot as plt\n",
        "import scipy.stats\n",
        "from math import sqrt\n",
        "import plotly.graph_objects as go\n",
        "import statsmodels.api as sm\n",
        "import math\n",
        "import plotly.express as px\n",
        "import random\n",
        "import re\n",
        "import os"
      ]
    },
    {
      "cell_type": "code",
      "source": [
        "import os\n",
        "\n",
        "os.makedirs('data/raw', exist_ok=True)\n",
        "os.makedirs('data/interim', exist_ok=True)\n",
        "os.makedirs('data/processed', exist_ok=True)"
      ],
      "metadata": {
        "id": "1DKQV0YWyK9h"
      },
      "execution_count": null,
      "outputs": []
    },
    {
      "cell_type": "code",
      "source": [
        "from google.colab import drive\n",
        "drive.mount('/content/drive')"
      ],
      "metadata": {
        "id": "-9Y3q-a3zHY5"
      },
      "execution_count": null,
      "outputs": []
    },
    {
      "cell_type": "code",
      "source": [
        "df_netflix= pd.read_csv('/content/drive/MyDrive/netflix_titles.csv', usecols=['show_id','title','director','cast','listed_in','description'])\n",
        "df_titles= pd.read_csv('/content/drive/MyDrive/titles.csv', usecols=['id','title','type','genres','imdb_votes','imdb_score','tmdb_popularity','tmdb_score'])\n",
        "df_credits= pd.read_csv('/content/drive/MyDrive/credits.csv')\n",
        "df_imdb= pd.read_csv('/content/drive/MyDrive/imdb_top_1000.csv', usecols=['Series_Title', 'Gross'])"
      ],
      "metadata": {
        "id": "W1-_T8gtzJSI"
      },
      "execution_count": null,
      "outputs": []
    },
    {
      "cell_type": "code",
      "source": [
        "df_netflix['title'] = df_netflix['title'].str.lower().str.strip()\n",
        "df_titles['title'] = df_titles['title'].str.lower().str.strip()\n",
        "df_imdb['Series_Title']= df_imdb['Series_Title'].str.lower().str.strip()\n",
        "df_imdb['Gross']= df_imdb['Gross'].str.lower().str.strip()"
      ],
      "metadata": {
        "id": "MBlYsSPezf48"
      },
      "execution_count": null,
      "outputs": []
    },
    {
      "cell_type": "code",
      "source": [
        "def clean_title(text):\n",
        "    if isinstance(text, str):\n",
        "        return re.sub(r'[^a-zA-Z0-9\\s]', '', text)\n",
        "    else:\n",
        "        return text\n",
        "\n",
        "df_netflix['title'] = df_netflix['title'].apply(clean_title)\n",
        "df_titles['title'] = df_titles['title'].apply(clean_title)\n",
        "df_imdb['Series_Title'] = df_imdb['Series_Title'].apply(clean_title)\n"
      ],
      "metadata": {
        "id": "wNJp-1p-zg8q"
      },
      "execution_count": null,
      "outputs": []
    },
    {
      "cell_type": "code",
      "source": [
        "def remove_suffix(title):\n",
        "    if isinstance(title, str):  # Checking if the input is a string\n",
        "        if title.endswith('the movie'):\n",
        "            return title[:-9].strip()\n",
        "    return title\n",
        "\n",
        "# Applying the remove_suffix function to the 'title' column of each DataFrame\n",
        "df_netflix['title'] = df_netflix['title'].apply(remove_suffix)\n",
        "df_titles['title'] = df_titles['title'].apply(remove_suffix)\n",
        "df_imdb['Series_Title'] = df_imdb['Series_Title'].apply(remove_suffix)\n"
      ],
      "metadata": {
        "id": "RToqF-2Dzpu8"
      },
      "execution_count": null,
      "outputs": []
    },
    {
      "cell_type": "code",
      "source": [
        "merged_df = pd.merge(df_titles, df_credits, on='id', how='inner')\n",
        "remerged_df = pd.merge(merged_df, df_netflix, on='title', how='inner')\n",
        "reremerged_df = pd.merge(remerged_df, df_imdb[['Series_Title', 'Gross']], left_on='title', right_on='Series_Title', how='inner')"
      ],
      "metadata": {
        "id": "ArjUmNne0EIK"
      },
      "execution_count": null,
      "outputs": []
    },
    {
      "cell_type": "code",
      "source": [
        "remerged_df"
      ],
      "metadata": {
        "id": "IpV0EI5cfJA2"
      },
      "execution_count": null,
      "outputs": []
    },
    {
      "cell_type": "code",
      "source": [
        "\n",
        "reremerged_df"
      ],
      "metadata": {
        "id": "q40DiaQ8eq1y"
      },
      "execution_count": null,
      "outputs": []
    },
    {
      "cell_type": "code",
      "source": [
        "print(reremerged_df[['title', 'Series_Title']].sample(5))"
      ],
      "metadata": {
        "id": "HFePJxs20XvD"
      },
      "execution_count": null,
      "outputs": []
    },
    {
      "cell_type": "code",
      "source": [
        "mismatches = reremerged_df[reremerged_df['title'] != reremerged_df['Series_Title']]\n",
        "print(f\"Number of mismatches: {len(mismatches)}\")\n",
        "\n",
        "if len(mismatches) > 0:\n",
        "    print(\"Here are some mismatches:\")\n",
        "    print(mismatches[['title', 'Series_Title']].head())"
      ],
      "metadata": {
        "id": "Su8KV1K_0Zxx"
      },
      "execution_count": null,
      "outputs": []
    },
    {
      "cell_type": "code",
      "source": [
        "reremerged_df.drop('Series_Title', axis=1, inplace=True)"
      ],
      "metadata": {
        "id": "HNXtA3w-087G"
      },
      "execution_count": null,
      "outputs": []
    },
    {
      "cell_type": "code",
      "source": [
        "reremerged_df.info()"
      ],
      "metadata": {
        "id": "PVw2v-io1fL5"
      },
      "execution_count": null,
      "outputs": []
    },
    {
      "cell_type": "code",
      "source": [
        "reremerged_df.describe()"
      ],
      "metadata": {
        "id": "ao3IaKFl157N"
      },
      "execution_count": null,
      "outputs": []
    },
    {
      "cell_type": "code",
      "source": [
        "print(reremerged_df.isnull().sum())"
      ],
      "metadata": {
        "id": "biNd_3K7187C"
      },
      "execution_count": null,
      "outputs": []
    },
    {
      "cell_type": "code",
      "source": [
        "reremerged_df.columns = reremerged_df.columns.str.title()"
      ],
      "metadata": {
        "id": "04C-ERHT3OcN"
      },
      "execution_count": null,
      "outputs": []
    },
    {
      "cell_type": "code",
      "source": [
        "reremerged_df['Imdb_Score'].fillna(reremerged_df['Imdb_Score'].mean(), inplace=True)\n",
        "\n",
        "reremerged_df['Imdb_Votes'].fillna(reremerged_df['Imdb_Votes'].median(), inplace=True)\n",
        "\n",
        "reremerged_df['Tmdb_Score'].fillna(reremerged_df['Tmdb_Score'].mean(), inplace=True)\n",
        "\n",
        "reremerged_df['Director'].fillna('Unknown', inplace=True)\n",
        "\n",
        "reremerged_df['Character'].fillna('Unknown', inplace=True)\n",
        "\n",
        "most_common_cast = reremerged_df['Cast'].mode()[0]\n",
        "reremerged_df['Cast'].fillna(most_common_cast, inplace=True)\n",
        "\n",
        "# Removing commas\n",
        "reremerged_df['Gross'] = reremerged_df['Gross'].replace(',', '', regex=True)\n",
        "\n",
        "# Conversion process\n",
        "reremerged_df['Gross'] = reremerged_df['Gross'].astype(float)\n",
        "\n",
        "# Comma separated values can now be treated as decimals when calculating median\n",
        "gross_median = reremerged_df['Gross'].median()\n",
        "reremerged_df['Gross'].fillna(gross_median, inplace=True)"
      ],
      "metadata": {
        "id": "03K7hhEe2Avv"
      },
      "execution_count": null,
      "outputs": []
    },
    {
      "cell_type": "code",
      "source": [
        "print(reremerged_df.isnull().sum())"
      ],
      "metadata": {
        "id": "ffS6LiK62Gg6"
      },
      "execution_count": null,
      "outputs": []
    },
    {
      "cell_type": "code",
      "source": [
        "duplicate_rows = reremerged_df.duplicated().sum()\n",
        "\n",
        "print(\"Number of duplicate rows:\", duplicate_rows)"
      ],
      "metadata": {
        "id": "5WTRlv_t3h03"
      },
      "execution_count": null,
      "outputs": []
    },
    {
      "cell_type": "code",
      "source": [
        "reremerged_df"
      ],
      "metadata": {
        "id": "kDtq5DHF6hov"
      },
      "execution_count": null,
      "outputs": []
    },
    {
      "cell_type": "code",
      "source": [
        "\n",
        "from scipy import stats\n",
        "z_scores = stats.zscore(reremerged_df['Imdb_Score'])\n",
        "\n",
        "threshold = 3\n",
        "outliers = np.where(np.abs(z_scores) > threshold)\n",
        "\n",
        "print(\"location of all outliers:\", outliers)"
      ],
      "metadata": {
        "id": "-zDo5T1y2PA3"
      },
      "execution_count": null,
      "outputs": []
    },
    {
      "cell_type": "code",
      "source": [
        "#replace outliers with average\n",
        "reremerged_df['Imdb_Score'].loc[outliers[0]] = reremerged_df['Imdb_Score'].mean()"
      ],
      "metadata": {
        "id": "WELwuJnB2Q-4"
      },
      "execution_count": null,
      "outputs": []
    },
    {
      "cell_type": "code",
      "source": [
        "#outliers for gross\n",
        "z_scores_gross = stats.zscore(reremerged_df['Gross'])\n",
        "outliers_gross = np.where(np.abs(z_scores_gross) > threshold)\n",
        "print(\"gross outliers location:\", outliers_gross)"
      ],
      "metadata": {
        "id": "cQ9GWW2L2Vd8"
      },
      "execution_count": null,
      "outputs": []
    },
    {
      "cell_type": "code",
      "source": [
        "#filling outliers with median\n",
        "median_value = reremerged_df['Gross'].median()\n",
        "reremerged_df.loc[outliers_gross[0], 'Gross'] = median_value"
      ],
      "metadata": {
        "id": "B3Yurgxz2W96"
      },
      "execution_count": null,
      "outputs": []
    },
    {
      "cell_type": "code",
      "source": [
        "plt.figure(figsize=(8, 6))\n",
        "plt.scatter(reremerged_df['Imdb_Score'], reremerged_df['Tmdb_Score'], alpha=0.5)\n",
        "plt.title('Correlation btw IMDb Score and TMDB Score')\n",
        "plt.xlabel('IMDb Score')\n",
        "plt.ylabel('TMDB Score')\n",
        "plt.grid(True)\n",
        "plt.show()"
      ],
      "metadata": {
        "id": "oQmKBgrf3lV8"
      },
      "execution_count": null,
      "outputs": []
    },
    {
      "cell_type": "code",
      "source": [
        "top_genres = reremerged_df['Genres'].value_counts().head(10).index\n",
        "\n",
        "filtered_df = reremerged_df[reremerged_df['Genres'].isin(top_genres)]\n",
        "\n",
        "plt.figure(figsize=(12, 8))\n",
        "sns.boxplot(x='Genres', y='Imdb_Score', data=filtered_df)\n",
        "plt.title('Audience Scores by Genre')\n",
        "plt.xlabel('Genres')\n",
        "plt.ylabel('IMDb Score')\n",
        "plt.xticks(rotation=45)\n",
        "plt.show()"
      ],
      "metadata": {
        "id": "MHZt43EH3olR"
      },
      "execution_count": null,
      "outputs": []
    },
    {
      "cell_type": "code",
      "source": [
        "director_avg_imdb_scores = reremerged_df.groupby('Name')['Imdb_Score'].mean().reset_index()\n",
        "plt.figure(figsize=(12, 8))\n",
        "sns.barplot(x='Name', y='Imdb_Score', data=director_avg_imdb_scores.head(10))\n",
        "plt.title('Top 10 Directors by Average IMDb Score')\n",
        "plt.xlabel('Director')\n",
        "plt.ylabel('Average IMDb Score')\n",
        "plt.xticks(rotation=45)\n",
        "plt.show()"
      ],
      "metadata": {
        "id": "3eoMpY9t3riR"
      },
      "execution_count": null,
      "outputs": []
    },
    {
      "cell_type": "code",
      "source": [
        "plt.figure(figsize=(8, 6))\n",
        "plt.scatter(reremerged_df['Gross'], reremerged_df['Imdb_Score'], alpha=0.5)\n",
        "plt.title('IMDb Scores vs. Gross Income')\n",
        "plt.xlabel('Gross Income')\n",
        "plt.ylabel('IMDb Score')\n",
        "plt.show()"
      ],
      "metadata": {
        "id": "uvNk5vZC3uJJ"
      },
      "execution_count": null,
      "outputs": []
    },
    {
      "cell_type": "code",
      "source": [
        "import pandas as pd\n",
        "\n",
        "# Veri setlerini yükleme\n",
        "df_credits = pd.read_csv('/content/data/raw/credits.csv')\n",
        "df_titles = pd.read_csv('/content/data/raw/titles.csv')\n",
        "\n",
        "# Credits ve titles veri setlerini birleştirme\n",
        "df_merged = pd.merge(df_credits, df_titles, on='id', how='inner')\n",
        "\n",
        "# Aktörler için popülerlik indeksi hesaplama\n",
        "actor_popularity = df_merged[df_merged['role'] == 'ACTOR'].groupby('name')['imdb_score'].mean().reset_index()\n",
        "actor_popularity.columns = ['Name', 'Actor_Popularity_Index']\n",
        "\n",
        "# Yönetmenler için popülerlik indeksi hesaplama\n",
        "director_popularity = df_merged[df_merged['role'] == 'DIRECTOR'].groupby('name')['imdb_score'].mean().reset_index()\n",
        "director_popularity.columns = ['Name', 'Director_Popularity_Index']\n",
        "\n",
        "# Popülerlik indekslerini birleştirme\n",
        "popularity_df = pd.concat([actor_popularity, director_popularity], ignore_index=True)\n",
        "\n",
        "# Popülerlik indeksini orijinal veri çerçevesine ekleme fonksiyonu\n",
        "def get_popularity_index(row, popularity_df):\n",
        "    if row['Role'] == 'ACTOR':\n",
        "        popularity_score = popularity_df[popularity_df['Name'] == row['Name']]['Actor_Popularity_Index'].values\n",
        "    elif row['Role'] == 'DIRECTOR':\n",
        "        popularity_score = popularity_df[popularity_df['Name'] == row['Name']]['Director_Popularity_Index'].values\n",
        "    else:\n",
        "        popularity_score = [0]\n",
        "\n",
        "    return popularity_score[0] if len(popularity_score) > 0 else 0\n",
        "\n",
        "# Orijinal veri çerçevesine popülerlik indeksini ekleme\n",
        "reremerged_df['Popularity_Index'] = reremerged_df.apply(lambda row: get_popularity_index(row, popularity_df), axis=1)\n",
        "\n",
        "# Sonuçları kontrol etme\n",
        "print(reremerged_df.head())\n"
      ],
      "metadata": {
        "id": "n69NX3AujwFw"
      },
      "execution_count": null,
      "outputs": []
    },
    {
      "cell_type": "code",
      "source": [
        "# Popülerlik indekslerinin istatistiklerini gözden geçirme\n",
        "print(reremerged_df['Popularity_Index'].describe())"
      ],
      "metadata": {
        "id": "bdnPDWkwlmMj"
      },
      "execution_count": null,
      "outputs": []
    },
    {
      "cell_type": "code",
      "source": [
        "reremerged_df"
      ],
      "metadata": {
        "id": "uoYEUG3SrCfe"
      },
      "execution_count": null,
      "outputs": []
    },
    {
      "cell_type": "code",
      "source": [
        "import pandas as pd\n",
        "from sklearn.model_selection import train_test_split\n",
        "from sklearn.preprocessing import OneHotEncoder, StandardScaler\n",
        "from sklearn.compose import ColumnTransformer\n",
        "from sklearn.pipeline import Pipeline\n",
        "from sklearn.linear_model import LinearRegression\n",
        "from sklearn.impute import SimpleImputer\n",
        "from sklearn.metrics import mean_squared_error, r2_score\n",
        "\n",
        "# Gereksiz sütunları çıkarma\n",
        "X = reremerged_df.drop(columns=['Imdb_Score', 'Id', 'Title', 'Type', 'Description', 'Show_Id', 'Listed_In', 'Cast', 'Character'])\n",
        "y = reremerged_df['Imdb_Score']\n",
        "\n",
        "# Kategorik ve sayısal sütunları belirleme\n",
        "categorical_features = ['Genres', 'Role', 'Director', 'Name']\n",
        "numeric_features = X.columns.difference(categorical_features)\n",
        "\n",
        "# Kategorik ve sayısal sütunları dönüştürmek için ön işleme adımları\n",
        "numeric_transformer = Pipeline(steps=[\n",
        "    ('imputer', SimpleImputer(strategy='median')),\n",
        "    ('scaler', StandardScaler())])\n",
        "\n",
        "categorical_transformer = Pipeline(steps=[\n",
        "    ('imputer', SimpleImputer(strategy='most_frequent')),\n",
        "    ('onehot', OneHotEncoder(drop='first', handle_unknown='ignore'))])\n",
        "\n",
        "# Ön işleme adımları birleştirme\n",
        "preprocessor = ColumnTransformer(\n",
        "    transformers=[\n",
        "        ('num', numeric_transformer, numeric_features),\n",
        "        ('cat', categorical_transformer, categorical_features)\n",
        "    ])\n",
        "\n",
        "# Pipeline oluşturma\n",
        "model = Pipeline(steps=[\n",
        "    ('preprocessor', preprocessor),\n",
        "    ('regressor', LinearRegression())\n",
        "])\n",
        "\n",
        "# Eğitim ve test veri setlerini ayırma\n",
        "X_train, X_test, y_train, y_test = train_test_split(X, y, test_size=0.2, random_state=42)\n",
        "\n",
        "# Modeli eğitme\n",
        "model.fit(X_train, y_train)\n",
        "\n",
        "# Test veri seti ile tahminler yapma\n",
        "y_pred = model.predict(X_test)\n",
        "\n",
        "# Performans metrikleri\n",
        "mse = mean_squared_error(y_test, y_pred)\n",
        "r2 = r2_score(y_test, y_pred)\n",
        "\n",
        "print(f\"Mean Squared Error: {mse}\")\n",
        "print(f\"R^2 Score: {r2}\")\n",
        "\n",
        "# Gerçek ve tahmin edilen değerlerin karşılaştırması\n",
        "import matplotlib.pyplot as plt\n",
        "\n",
        "plt.figure(figsize=(10, 6))\n",
        "plt.scatter(y_test, y_pred, alpha=0.5)\n",
        "plt.xlabel(\"Gerçek IMDb Puanı\")\n",
        "plt.ylabel(\"Tahmin Edilen IMDb Puanı\")\n",
        "plt.title(\"Gerçek ve Tahmin Edilen IMDb Puanlarının Karşılaştırması\")\n",
        "plt.show()\n"
      ],
      "metadata": {
        "id": "4dRPULRW5VLr"
      },
      "execution_count": null,
      "outputs": []
    },
    {
      "cell_type": "code",
      "source": [
        "import pandas as pd\n",
        "from sklearn.model_selection import train_test_split\n",
        "from sklearn.preprocessing import OneHotEncoder, StandardScaler\n",
        "from sklearn.compose import ColumnTransformer\n",
        "from sklearn.pipeline import Pipeline\n",
        "from sklearn.ensemble import RandomForestRegressor\n",
        "from sklearn.impute import SimpleImputer\n",
        "from sklearn.metrics import mean_squared_error, r2_score\n",
        "from sklearn.model_selection import GridSearchCV\n",
        "\n",
        "# Sütun adını kontrol etme\n",
        "print(reremerged_df.columns)\n",
        "\n",
        "# Türleri patlatma (explode) işlemi\n",
        "exploded_df = reremerged_df.explode('Genres')\n",
        "\n",
        "# Gereksiz sütunları çıkarma\n",
        "X = exploded_df.drop(columns=['Popularity_Index', 'Id', 'Title', 'Type', 'Description', 'Show_Id', 'Listed_In', 'Cast', 'Character'])\n",
        "y = exploded_df['Popularity_Index']\n",
        "\n",
        "# Eksik değerleri kontrol etme ve doldurma\n",
        "imputer = SimpleImputer(strategy='median')\n",
        "y = imputer.fit_transform(y.values.reshape(-1, 1)).ravel()\n",
        "\n",
        "# Kategorik ve sayısal sütunları belirleme\n",
        "categorical_features = ['Genres', 'Role', 'Director', 'Name']\n",
        "numeric_features = X.columns.difference(categorical_features)\n",
        "\n",
        "# Kategorik ve sayısal sütunları dönüştürmek için ön işleme adımları\n",
        "numeric_transformer = Pipeline(steps=[\n",
        "    ('imputer', SimpleImputer(strategy='median')),\n",
        "    ('scaler', StandardScaler())])\n",
        "\n",
        "categorical_transformer = Pipeline(steps=[\n",
        "    ('onehot', OneHotEncoder(drop='first', handle_unknown='ignore'))])\n",
        "\n",
        "# Ön işleme adımları birleştirme\n",
        "preprocessor = ColumnTransformer(\n",
        "    transformers=[\n",
        "        ('num', numeric_transformer, numeric_features),\n",
        "        ('cat', categorical_transformer, categorical_features)\n",
        "    ])\n",
        "\n",
        "# Pipeline oluşturma\n",
        "model = Pipeline(steps=[\n",
        "    ('preprocessor', preprocessor),\n",
        "    ('regressor', RandomForestRegressor(random_state=42))\n",
        "])\n",
        "\n",
        "# Hiperparametre grid'i\n",
        "param_grid = {\n",
        "    'regressor__n_estimators': [100, 200, 300],\n",
        "    'regressor__max_depth': [None, 10, 20, 30],\n",
        "    'regressor__min_samples_split': [2, 5, 10]\n",
        "}\n",
        "\n",
        "# Grid Search CV ile hiperparametre optimizasyonu\n",
        "grid_search = GridSearchCV(estimator=model, param_grid=param_grid, cv=3, n_jobs=-1, verbose=2)\n",
        "\n",
        "# Eğitim ve test veri setlerini ayırma\n",
        "X_train, X_test, y_train, y_test = train_test_split(X, y, test_size=0.2, random_state=42)\n",
        "\n",
        "# Modeli eğitme\n",
        "grid_search.fit(X_train, y_train)\n",
        "\n",
        "# En iyi modeli seçme\n",
        "best_rf_model = grid_search.best_estimator_\n",
        "\n",
        "# Test veri seti ile tahminler yapma\n",
        "y_pred_rf = best_rf_model.predict(X_test)\n",
        "\n",
        "# Performans metrikleri\n",
        "mse_rf = mean_squared_error(y_test, y_pred_rf)\n",
        "r2_rf = r2_score(y_test, y_pred_rf)\n",
        "\n",
        "print(f\"Random Forest Mean Squared Error: {mse_rf}\")\n",
        "print(f\"Random Forest R^2 Score: {r2_rf}\")\n",
        "\n",
        "# Gerçek ve tahmin edilen değerlerin karşılaştırması\n",
        "import matplotlib.pyplot as plt\n",
        "\n",
        "plt.figure(figsize=(10, 6))\n",
        "plt.scatter(y_test, y_pred_rf, alpha=0.5, color='b')\n",
        "plt.plot([y_test.min(), y_test.max()], [y_test.min(), y_test.max()], 'r--', lw=2)\n",
        "plt.xlabel(\"Gerçek Popülerlik İndeksi\")\n",
        "plt.ylabel(\"Tahmin Edilen Popülerlik İndeksi\")\n",
        "plt.title(\"Random Forest: Gerçek ve Tahmin Edilen Popülerlik İndekslerinin Karşılaştırması\")\n",
        "plt.show()\n",
        "\n",
        "# İlk birkaç tahmin ve gerçek değeri karşılaştırma\n",
        "comparison_df_rf = pd.DataFrame({'Gerçek Değer': y_test, 'Tahmin Edilen Değer': y_pred_rf})\n",
        "print(comparison_df_rf.head(10))\n"
      ],
      "metadata": {
        "colab": {
          "base_uri": "https://localhost:8080/",
          "height": 952
        },
        "id": "9xokg5_tD_Jc",
        "outputId": "3c6f005c-37de-44e9-b825-273471625b6b"
      },
      "execution_count": 192,
      "outputs": [
        {
          "output_type": "stream",
          "name": "stdout",
          "text": [
            "Index(['Id', 'Title', 'Type', 'Genres', 'Imdb_Score', 'Imdb_Votes',\n",
            "       'Tmdb_Popularity', 'Tmdb_Score', 'Person_Id', 'Name', 'Character',\n",
            "       'Role', 'Show_Id', 'Director', 'Cast', 'Listed_In', 'Description',\n",
            "       'Gross', 'Popularity_Index'],\n",
            "      dtype='object')\n",
            "Fitting 3 folds for each of 36 candidates, totalling 108 fits\n"
          ]
        },
        {
          "output_type": "stream",
          "name": "stderr",
          "text": [
            "/usr/local/lib/python3.10/dist-packages/sklearn/preprocessing/_encoders.py:202: UserWarning: Found unknown categories in columns [3] during transform. These unknown categories will be encoded as all zeros\n",
            "  warnings.warn(\n"
          ]
        },
        {
          "output_type": "stream",
          "name": "stdout",
          "text": [
            "Random Forest Mean Squared Error: 1.7323496981696862\n",
            "Random Forest R^2 Score: 0.7529654672194624\n"
          ]
        },
        {
          "output_type": "display_data",
          "data": {
            "text/plain": [
              "<Figure size 1000x600 with 1 Axes>"
            ],
            "image/png": "[encoded data removed]"
          },
          "metadata": {}
        },
        {
          "output_type": "stream",
          "name": "stdout",
          "text": [
            "   Gerçek Değer  Tahmin Edilen Değer\n",
            "0      6.766667             7.126585\n",
            "1      8.300000             8.052610\n",
            "2      6.700000             6.424891\n",
            "3      7.800000             7.318151\n",
            "4      8.200000             8.083725\n",
            "5      4.950000             6.145672\n",
            "6      0.000000             0.023823\n",
            "7      6.511111             7.179416\n",
            "8      7.600000             7.415069\n",
            "9      0.000000             0.450642\n"
          ]
        }
      ]
    },
    {
      "cell_type": "code",
      "source": [
        "import numpy as np\n",
        "import matplotlib.pyplot as plt\n",
        "import seaborn as sns\n",
        "\n",
        "# Aykırı değerleri görselleştirme\n",
        "plt.figure(figsize=(10, 6))\n",
        "sns.boxplot(x=reremerged_df['Gross'])\n",
        "plt.title('Brüt Gelir İçin Box Plot')\n",
        "plt.show()\n",
        "\n",
        "# Aykırı değerleri belirleme\n",
        "Q1 = reremerged_df['Gross'].quantile(0.25)\n",
        "Q3 = reremerged_df['Gross'].quantile(0.75)\n",
        "IQR = Q3 - Q1\n",
        "lower_bound = Q1 - 1.5 * IQR\n",
        "upper_bound = Q3 + 1.5 * IQR\n",
        "\n",
        "outliers = reremerged_df[(reremerged_df['Gross'] < lower_bound) | (reremerged_df['Gross'] > upper_bound)]\n",
        "print(f\"Aykırı Değerlerin Sayısı: {len(outliers)}\")\n",
        "\n",
        "# Aykırı değerleri ele alma (örneğin, aykırı değerleri çıkarma)\n",
        "reremerged_df_no_outliers = reremerged_df[~((reremerged_df['Gross'] < lower_bound) | (reremerged_df['Gross'] > upper_bound))]\n",
        "\n",
        "# Yeni veri kümesini kullanarak modeli tekrar eğitme ve değerlendirme\n",
        "X = reremerged_df_no_outliers.drop(columns=['Gross', 'Id', 'Title', 'Type', 'Description', 'Show_Id', 'Listed_In', 'Cast', 'Character'])\n",
        "y = reremerged_df_no_outliers['Gross']\n",
        "\n",
        "# Eğitim ve test veri setlerini ayırma\n",
        "X_train, X_test, y_train, y_test = train_test_split(X, y, test_size=0.2, random_state=42)\n",
        "\n",
        "# Pipeline oluşturma\n",
        "model = Pipeline(steps=[\n",
        "    ('preprocessor', preprocessor),\n",
        "    ('regressor', GradientBoostingRegressor(random_state=42))\n",
        "])\n",
        "\n",
        "# Modeli eğitme\n",
        "model.fit(X_train, y_train)\n",
        "\n",
        "# Test veri seti ile tahminler yapma\n",
        "y_pred = model.predict(X_test)\n",
        "\n",
        "# Performans metrikleri\n",
        "mse = mean_squared_error(y_test, y_pred)\n",
        "r2 = r2_score(y_test, y_pred)\n",
        "\n",
        "print(f\"Mean Squared Error: {mse}\")\n",
        "print(f\"R^2 Score: {r2}\")\n",
        "\n",
        "# Gerçek ve tahmin edilen değerlerin karşılaştırması\n",
        "plt.figure(figsize=(10, 6))\n",
        "plt.scatter(y_test, y_pred, alpha=0.5)\n",
        "plt.xlabel(\"Gerçek Brüt Gelir\")\n",
        "plt.ylabel(\"Tahmin Edilen Brüt Gelir\")\n",
        "plt.title(\"Gerçek ve Tahmin Edilen Brüt Gelirlerinin Karşılaştırması\")\n",
        "plt.show()\n"
      ],
      "metadata": {
        "colab": {
          "base_uri": "https://localhost:8080/",
          "height": 1000
        },
        "id": "Z-UcX5XnXrEO",
        "outputId": "2fce486a-1b1b-40f5-fcfc-a88c6160b5de"
      },
      "execution_count": 196,
      "outputs": [
        {
          "output_type": "display_data",
          "data": {
            "text/plain": [
              "<Figure size 1000x600 with 1 Axes>"
            ],
            "image/png": "[encoded data removed]"
          },
          "metadata": {}
        },
        {
          "output_type": "stream",
          "name": "stdout",
          "text": [
            "Aykırı Değerlerin Sayısı: 486\n"
          ]
        },
        {
          "output_type": "stream",
          "name": "stderr",
          "text": [
            "/usr/local/lib/python3.10/dist-packages/sklearn/preprocessing/_encoders.py:202: UserWarning: Found unknown categories in columns [3] during transform. These unknown categories will be encoded as all zeros\n",
            "  warnings.warn(\n"
          ]
        },
        {
          "output_type": "stream",
          "name": "stdout",
          "text": [
            "Mean Squared Error: 18356779263438.863\n",
            "R^2 Score: 0.9670251046827911\n"
          ]
        },
        {
          "output_type": "display_data",
          "data": {
            "text/plain": [
              "<Figure size 1000x600 with 1 Axes>"
            ],
            "image/png": "[encoded data removed]"
          },
          "metadata": {}
        }
      ]
    },
    {
      "cell_type": "code",
      "source": [],
      "metadata": {
        "id": "R2QRh003ZHlZ"
      },
      "execution_count": null,
      "outputs": []
    }
  ]
}