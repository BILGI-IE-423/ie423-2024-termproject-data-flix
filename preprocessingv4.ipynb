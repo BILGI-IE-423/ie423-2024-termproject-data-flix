{
 "cells": [
  {
   "cell_type": "code",
   "execution_count": 3,
   "metadata": {
    "id": "tM-s5bwLzCSM"
   },
   "outputs": [
    {
     "ename": "ModuleNotFoundError",
     "evalue": "No module named 'plotly'",
     "output_type": "error",
     "traceback": [
      "\u001b[0;31m---------------------------------------------------------------------------\u001b[0m",
      "\u001b[0;31mModuleNotFoundError\u001b[0m                       Traceback (most recent call last)",
      "Cell \u001b[0;32mIn[3], line 7\u001b[0m\n\u001b[1;32m      5\u001b[0m \u001b[38;5;28;01mimport\u001b[39;00m \u001b[38;5;21;01mscipy\u001b[39;00m\u001b[38;5;21;01m.\u001b[39;00m\u001b[38;5;21;01mstats\u001b[39;00m\n\u001b[1;32m      6\u001b[0m \u001b[38;5;28;01mfrom\u001b[39;00m \u001b[38;5;21;01mmath\u001b[39;00m \u001b[38;5;28;01mimport\u001b[39;00m sqrt\n\u001b[0;32m----> 7\u001b[0m \u001b[38;5;28;01mimport\u001b[39;00m \u001b[38;5;21;01mplotly\u001b[39;00m\u001b[38;5;21;01m.\u001b[39;00m\u001b[38;5;21;01mgraph_objects\u001b[39;00m \u001b[38;5;28;01mas\u001b[39;00m \u001b[38;5;21;01mgo\u001b[39;00m\n\u001b[1;32m      8\u001b[0m \u001b[38;5;28;01mimport\u001b[39;00m \u001b[38;5;21;01mstatsmodels\u001b[39;00m\u001b[38;5;21;01m.\u001b[39;00m\u001b[38;5;21;01mapi\u001b[39;00m \u001b[38;5;28;01mas\u001b[39;00m \u001b[38;5;21;01msm\u001b[39;00m\n\u001b[1;32m      9\u001b[0m \u001b[38;5;28;01mimport\u001b[39;00m \u001b[38;5;21;01mmath\u001b[39;00m\n",
      "\u001b[0;31mModuleNotFoundError\u001b[0m: No module named 'plotly'"
     ]
    }
   ],
   "source": [
    "import numpy as np\n",
    "import pandas as pd\n",
    "import seaborn as sns\n",
    "import matplotlib.pyplot as plt\n",
    "import scipy.stats\n",
    "from math import sqrt\n",
    "import plotly.graph_objects as go\n",
    "import statsmodels.api as sm\n",
    "import math\n",
    "import plotly.express as px\n",
    "import random\n",
    "import re"
   ]
  },
  {
   "cell_type": "code",
   "execution_count": 4,
   "metadata": {
    "colab": {
     "base_uri": "https://localhost:8080/"
    },
    "id": "-9Y3q-a3zHY5",
    "outputId": "bc9e6836-f71a-462c-940b-38989fc49cbf"
   },
   "outputs": [
    {
     "ename": "ModuleNotFoundError",
     "evalue": "No module named 'google'",
     "output_type": "error",
     "traceback": [
      "\u001b[0;31m---------------------------------------------------------------------------\u001b[0m",
      "\u001b[0;31mModuleNotFoundError\u001b[0m                       Traceback (most recent call last)",
      "Cell \u001b[0;32mIn[4], line 1\u001b[0m\n\u001b[0;32m----> 1\u001b[0m \u001b[38;5;28;01mfrom\u001b[39;00m \u001b[38;5;21;01mgoogle\u001b[39;00m\u001b[38;5;21;01m.\u001b[39;00m\u001b[38;5;21;01mcolab\u001b[39;00m \u001b[38;5;28;01mimport\u001b[39;00m drive\n\u001b[1;32m      2\u001b[0m drive\u001b[38;5;241m.\u001b[39mmount(\u001b[38;5;124m'\u001b[39m\u001b[38;5;124m/content/drive\u001b[39m\u001b[38;5;124m'\u001b[39m)\n",
      "\u001b[0;31mModuleNotFoundError\u001b[0m: No module named 'google'"
     ]
    }
   ],
   "source": [
    "from google.colab import drive\n",
    "drive.mount(')"
   ]
  },
  {
   "cell_type": "code",
   "execution_count": null,
   "metadata": {
    "id": "W1-_T8gtzJSI"
   },
   "outputs": [],
   "source": [
    "df_netflix= pd.read_csv('/content/drive/MyDrive/netflix_titles.csv', usecols=['show_id','title','director','cast','listed_in','description'])\n",
    "df_titles= pd.read_csv('/content/drive/MyDrive/titles.csv', usecols=['id','title','type','genres','imdb_votes','imdb_score','tmdb_popularity','tmdb_score'])\n",
    "df_credits= pd.read_csv('/content/drive/MyDrive/credits.csv')\n",
    "df_imdb= pd.read_csv('/content/drive/MyDrive/imdb_top_1000.csv', usecols=['Series_Title', 'Gross'])"
   ]
  },
  {
   "cell_type": "code",
   "execution_count": null,
   "metadata": {
    "id": "MBlYsSPezf48"
   },
   "outputs": [],
   "source": [
    "df_netflix['title'] = df_netflix['title'].str.lower().str.strip()\n",
    "df_titles['title'] = df_titles['title'].str.lower().str.strip()\n",
    "df_imdb['Series_Title']= df_imdb['Series_Title'].str.lower().str.strip()\n",
    "df_imdb['Gross']= df_imdb['Gross'].str.lower().str.strip()"
   ]
  },
  {
   "cell_type": "code",
   "execution_count": null,
   "metadata": {
    "id": "wNJp-1p-zg8q"
   },
   "outputs": [],
   "source": [
    "def clean_title(text):\n",
    "    if isinstance(text, str):\n",
    "        return re.sub(r'[^a-zA-Z0-9\\s]', '', text)\n",
    "    else:\n",
    "        return text\n",
    "\n",
    "df_netflix['title'] = df_netflix['title'].apply(clean_title)\n",
    "df_titles['title'] = df_titles['title'].apply(clean_title)\n",
    "df_imdb['Series_Title'] = df_imdb['Series_Title'].apply(clean_title)\n"
   ]
  },
  {
   "cell_type": "code",
   "execution_count": null,
   "metadata": {
    "id": "RToqF-2Dzpu8"
   },
   "outputs": [],
   "source": [
    "def remove_suffix(title):\n",
    "    if isinstance(title, str):  # Checking if the input is a string\n",
    "        if title.endswith('the movie'):\n",
    "            return title[:-9].strip()\n",
    "    return title\n",
    "\n",
    "# Applying the remove_suffix function to the 'title' column of each DataFrame\n",
    "df_netflix['title'] = df_netflix['title'].apply(remove_suffix)\n",
    "df_titles['title'] = df_titles['title'].apply(remove_suffix)\n",
    "df_imdb['Series_Title'] = df_imdb['Series_Title'].apply(remove_suffix)\n"
   ]
  },
  {
   "cell_type": "code",
   "execution_count": null,
   "metadata": {
    "id": "ArjUmNne0EIK"
   },
   "outputs": [],
   "source": [
    "merged_df = pd.merge(df_titles, df_credits, on='id', how='inner')\n",
    "remerged_df = pd.merge(merged_df, df_netflix, on='title', how='inner')\n",
    "reremerged_df = pd.merge(remerged_df, df_imdb[['Series_Title', 'Gross']], left_on='title', right_on='Series_Title', how='inner')"
   ]
  },
  {
   "cell_type": "code",
   "execution_count": null,
   "metadata": {
    "colab": {
     "base_uri": "https://localhost:8080/"
    },
    "id": "HFePJxs20XvD",
    "outputId": "522e6513-e9f2-4e28-d416-47a307af904a"
   },
   "outputs": [],
   "source": [
    "print(reremerged_df[['title', 'Series_Title']].sample(5))"
   ]
  },
  {
   "cell_type": "code",
   "execution_count": null,
   "metadata": {
    "colab": {
     "base_uri": "https://localhost:8080/"
    },
    "id": "Su8KV1K_0Zxx",
    "outputId": "d7660583-3668-42f1-9197-19968c2b7258"
   },
   "outputs": [],
   "source": [
    "mismatches = reremerged_df[reremerged_df['title'] != reremerged_df['Series_Title']]\n",
    "print(f\"Number of mismatches: {len(mismatches)}\")\n",
    "\n",
    "if len(mismatches) > 0:\n",
    "    print(\"Here are some mismatches:\")\n",
    "    print(mismatches[['title', 'Series_Title']].head())"
   ]
  },
  {
   "cell_type": "code",
   "execution_count": null,
   "metadata": {
    "id": "HNXtA3w-087G"
   },
   "outputs": [],
   "source": [
    "reremerged_df.drop('Series_Title', axis=1, inplace=True)"
   ]
  },
  {
   "cell_type": "code",
   "execution_count": null,
   "metadata": {
    "colab": {
     "base_uri": "https://localhost:8080/"
    },
    "id": "PVw2v-io1fL5",
    "outputId": "42eed9fe-de06-41c7-fb1c-e905a18c27cd"
   },
   "outputs": [],
   "source": [
    "reremerged_df.info()"
   ]
  },
  {
   "cell_type": "code",
   "execution_count": null,
   "metadata": {
    "colab": {
     "base_uri": "https://localhost:8080/",
     "height": 300
    },
    "id": "ao3IaKFl157N",
    "outputId": "ac2abfce-ce69-432a-ff80-248e161279ae"
   },
   "outputs": [],
   "source": [
    "reremerged_df.describe()"
   ]
  },
  {
   "cell_type": "code",
   "execution_count": null,
   "metadata": {
    "colab": {
     "base_uri": "https://localhost:8080/"
    },
    "id": "biNd_3K7187C",
    "outputId": "e31a833a-020c-4bc2-f640-3e6d0a9894ec"
   },
   "outputs": [],
   "source": [
    "print(reremerged_df.isnull().sum())"
   ]
  },
  {
   "cell_type": "code",
   "execution_count": null,
   "metadata": {
    "id": "04C-ERHT3OcN"
   },
   "outputs": [],
   "source": [
    "reremerged_df.columns = reremerged_df.columns.str.title()"
   ]
  },
  {
   "cell_type": "code",
   "execution_count": null,
   "metadata": {
    "id": "03K7hhEe2Avv"
   },
   "outputs": [],
   "source": [
    "reremerged_df['Imdb_Score'].fillna(reremerged_df['Imdb_Score'].mean(), inplace=True)\n",
    "\n",
    "reremerged_df['Imdb_Votes'].fillna(reremerged_df['Imdb_Votes'].median(), inplace=True)\n",
    "\n",
    "reremerged_df['Tmdb_Score'].fillna(reremerged_df['Tmdb_Score'].mean(), inplace=True)\n",
    "\n",
    "reremerged_df['Director'].fillna('Unknown', inplace=True)\n",
    "\n",
    "reremerged_df['Character'].fillna('Unknown', inplace=True)\n",
    "\n",
    "most_common_cast = reremerged_df['Cast'].mode()[0]\n",
    "reremerged_df['Cast'].fillna(most_common_cast, inplace=True)\n",
    "\n",
    "# Removing commas\n",
    "reremerged_df['Gross'] = reremerged_df['Gross'].replace(',', '', regex=True)\n",
    "\n",
    "# Conversion process\n",
    "reremerged_df['Gross'] = reremerged_df['Gross'].astype(float)\n",
    "\n",
    "# Comma separated values can now be treated as decimals when calculating median\n",
    "gross_median = reremerged_df['Gross'].median()\n",
    "reremerged_df['Gross'].fillna(gross_median, inplace=True)"
   ]
  },
  {
   "cell_type": "code",
   "execution_count": null,
   "metadata": {
    "colab": {
     "base_uri": "https://localhost:8080/"
    },
    "id": "ffS6LiK62Gg6",
    "outputId": "64fd14fd-7374-4b02-851c-5a0755c8839e"
   },
   "outputs": [],
   "source": [
    "print(reremerged_df.isnull().sum())"
   ]
  },
  {
   "cell_type": "code",
   "execution_count": null,
   "metadata": {
    "colab": {
     "base_uri": "https://localhost:8080/"
    },
    "id": "5WTRlv_t3h03",
    "outputId": "118eb712-3c0b-4185-ddb1-a0416885fb1f"
   },
   "outputs": [],
   "source": [
    "duplicate_rows = reremerged_df.duplicated().sum()\n",
    "\n",
    "print(\"Number of duplicate rows:\", duplicate_rows)"
   ]
  },
  {
   "cell_type": "code",
   "execution_count": null,
   "metadata": {
    "colab": {
     "base_uri": "https://localhost:8080/",
     "height": 1000
    },
    "id": "kDtq5DHF6hov",
    "outputId": "9e78d878-c06b-4916-a21e-1e8469e16037"
   },
   "outputs": [],
   "source": [
    "reremerged_df"
   ]
  },
  {
   "cell_type": "code",
   "execution_count": null,
   "metadata": {
    "colab": {
     "base_uri": "https://localhost:8080/",
     "height": 564
    },
    "id": "oQmKBgrf3lV8",
    "outputId": "0106900b-ac12-4f32-fb6f-76bd03311329"
   },
   "outputs": [],
   "source": [
    "plt.figure(figsize=(8, 6))\n",
    "plt.scatter(reremerged_df['Imdb_Score'], reremerged_df['Tmdb_Score'], alpha=0.5)\n",
    "plt.title('Correlation btw IMDb Score and TMDB Score')\n",
    "plt.xlabel('IMDb Score')\n",
    "plt.ylabel('TMDB Score')\n",
    "plt.grid(True)\n",
    "plt.show()"
   ]
  },
  {
   "cell_type": "code",
   "execution_count": null,
   "metadata": {
    "colab": {
     "base_uri": "https://localhost:8080/",
     "height": 897
    },
    "id": "MHZt43EH3olR",
    "outputId": "1599741e-6c0f-4489-c35c-41aad92c56e7"
   },
   "outputs": [],
   "source": [
    "top_genres = reremerged_df['Genres'].value_counts().head(10).index\n",
    "\n",
    "filtered_df = reremerged_df[reremerged_df['Genres'].isin(top_genres)]\n",
    "\n",
    "plt.figure(figsize=(12, 8))\n",
    "sns.boxplot(x='Genres', y='Imdb_Score', data=filtered_df)\n",
    "plt.title('Audience Scores by Genre')\n",
    "plt.xlabel('Genres')\n",
    "plt.ylabel('IMDb Score')\n",
    "plt.xticks(rotation=45)\n",
    "plt.show()"
   ]
  },
  {
   "cell_type": "code",
   "execution_count": null,
   "metadata": {
    "colab": {
     "base_uri": "https://localhost:8080/",
     "height": 805
    },
    "id": "3eoMpY9t3riR",
    "outputId": "cb0aa2dd-b47a-4b1d-8607-ca4f26bc76c8"
   },
   "outputs": [],
   "source": [
    "director_avg_imdb_scores = reremerged_df.groupby('Name')['Imdb_Score'].mean().reset_index()\n",
    "plt.figure(figsize=(12, 8))\n",
    "sns.barplot(x='Name', y='Imdb_Score', data=director_avg_imdb_scores.head(10))\n",
    "plt.title('Top 10 Directors by Average IMDb Score')\n",
    "plt.xlabel('Director')\n",
    "plt.ylabel('Average IMDb Score')\n",
    "plt.xticks(rotation=45)\n",
    "plt.show()"
   ]
  },
  {
   "cell_type": "code",
   "execution_count": null,
   "metadata": {
    "colab": {
     "base_uri": "https://localhost:8080/",
     "height": 564
    },
    "id": "uvNk5vZC3uJJ",
    "outputId": "af4d898a-4a19-4100-d834-822dfd9311e4"
   },
   "outputs": [],
   "source": [
    "plt.figure(figsize=(8, 6))\n",
    "plt.scatter(reremerged_df['Gross'], reremerged_df['Imdb_Score'], alpha=0.5)\n",
    "plt.title('IMDb Scores vs. Gross Income')\n",
    "plt.xlabel('Gross Income')\n",
    "plt.ylabel('IMDb Score')\n",
    "plt.show()"
   ]
  },
  {
   "cell_type": "code",
   "execution_count": null,
   "metadata": {},
   "outputs": [],
   "source": [
    "plt.figure(figsize=(12, 6))\n",
    "sns.boxplot(x=reremerged_df['Gross'])\n",
    "plt.title('Boxplot of Gross Income')\n",
    "plt.xlabel('Gross Income')\n",
    "plt.show()"
   ]
  },
  {
   "cell_type": "code",
   "execution_count": null,
   "metadata": {
    "id": "r8608ES93xQc"
   },
   "outputs": [],
   "source": []
  }
 ],
 "metadata": {
  "colab": {
   "provenance": []
  },
  "kernelspec": {
   "display_name": "Python 3 (ipykernel)",
   "language": "python",
   "name": "python3"
  },
  "language_info": {
   "codemirror_mode": {
    "name": "ipython",
    "version": 3
   },
   "file_extension": ".py",
   "mimetype": "text/x-python",
   "name": "python",
   "nbconvert_exporter": "python",
   "pygments_lexer": "ipython3",
   "version": "3.12.1"
  }
 },
 "nbformat": 4,
 "nbformat_minor": 4
}
