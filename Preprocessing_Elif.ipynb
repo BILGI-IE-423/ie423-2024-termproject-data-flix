{
 "cells": [
  {
   "cell_type": "code",
   "execution_count": 126,
   "id": "eac71f00-560a-485b-a441-d717a62a323b",
   "metadata": {},
   "outputs": [
    {
     "name": "stdout",
     "output_type": "stream",
     "text": [
      "Requirement already satisfied: pandas in /opt/miniconda3/lib/python3.12/site-packages (2.2.1)\n",
      "Requirement already satisfied: numpy in /opt/miniconda3/lib/python3.12/site-packages (1.26.4)\n",
      "Requirement already satisfied: python-dateutil>=2.8.2 in /opt/miniconda3/lib/python3.12/site-packages (from pandas) (2.9.0.post0)\n",
      "Requirement already satisfied: pytz>=2020.1 in /opt/miniconda3/lib/python3.12/site-packages (from pandas) (2024.1)\n",
      "Requirement already satisfied: tzdata>=2022.7 in /opt/miniconda3/lib/python3.12/site-packages (from pandas) (2024.1)\n",
      "Requirement already satisfied: six>=1.5 in /opt/miniconda3/lib/python3.12/site-packages (from python-dateutil>=2.8.2->pandas) (1.16.0)\n"
     ]
    }
   ],
   "source": [
    "!pip install pandas numpy #Installing the required library"
   ]
  },
  {
   "cell_type": "code",
   "execution_count": 127,
   "id": "2ad32355-0014-4427-85d4-a9bbae6c6994",
   "metadata": {},
   "outputs": [],
   "source": [
    "#Cleaning missing data\n",
    "# Remove records containing missing values in 'director', 'cast', 'date_added', and 'rating' columns\n",
    "# Remove records containing missing values in 'director', 'cast', 'date_added', and 'rating' columns\n",
    "#netflix_cleaned = data1.dropna(subset=['runtime'])\n",
    "\n",
    "# Show general information and first five rows of the cleaned data set\n",
    "#netflix_cleaned.info(), netflix_cleaned.head()"
   ]
  },
  {
   "cell_type": "code",
   "execution_count": 128,
   "id": "4968feaf-58c2-4c47-828b-5d5aa0e90caf",
   "metadata": {
    "scrolled": true
   },
   "outputs": [
    {
     "name": "stdout",
     "output_type": "stream",
     "text": [
      "             names       date_x  score                              genre  \\\n",
      "0  Attack on Titan  09/30/2022    59.0            Action, Science Fiction   \n",
      "1        Champions  03/09/2023    68.0                             Comedy   \n",
      "2             Prey  08/05/2022    78.0  Thriller, Action, Science Fiction   \n",
      "3           Scream  01/13/2022    67.0          Horror, Mystery, Thriller   \n",
      "4           Scream  01/13/2022    67.0          Horror, Mystery, Thriller   \n",
      "\n",
      "                                            overview  \\\n",
      "0  As viable water is depleted on Earth, a missio...   \n",
      "1  A stubborn and hotheaded minor league basketba...   \n",
      "2  When danger threatens her camp, the fierce and...   \n",
      "3  Twenty-five years after a streak of brutal mur...   \n",
      "4  Twenty-five years after a streak of brutal mur...   \n",
      "\n",
      "                                                crew       orig_title  \\\n",
      "0  Paul Bianchi, Computer (voice), Erin Coker, Al...  Attack on Titan   \n",
      "1  Woody Harrelson, Marcus, Kaitlin Olson, Alex, ...        Champions   \n",
      "2  Amber Midthunder, Naru, Dakota Beavers, Taabe,...             Prey   \n",
      "3  Melissa Barrera, Sam Carpenter, Mason Gooding,...           Scream   \n",
      "4  Melissa Barrera, Sam Carpenter, Mason Gooding,...           Scream   \n",
      "\n",
      "      status orig_lang    budget_x  ...            title       director  \\\n",
      "0   Released   English  71000000.0  ...  Attack on Titan            NaN   \n",
      "1   Released   English  51880004.0  ...        Champions            NaN   \n",
      "2   Released   English  65000000.0  ...             Prey  Thomas Sieben   \n",
      "3   Released   English  24000000.0  ...           Scream            NaN   \n",
      "4   Released   English  15000000.0  ...           Scream            NaN   \n",
      "\n",
      "                                                cast      country_y  \\\n",
      "0  Yuki Kaji, Yui Ishikawa, Marina Inoue, Kisho T...          Japan   \n",
      "1  Anders Holm, Fortune Feimster, Andy Favreau, J...  United States   \n",
      "2  David Kross, Hanno Koffler, Maria Ehrich, Robe...            NaN   \n",
      "3  Willa Fitzgerald, Bex Taylor-Klaus, John Karna...  United States   \n",
      "4  Willa Fitzgerald, Bex Taylor-Klaus, John Karna...  United States   \n",
      "\n",
      "           date_added release_year rating   duration  \\\n",
      "0        June 2, 2021         2013  TV-MA   1 Season   \n",
      "1       June 19, 2021         2018  TV-14   1 Season   \n",
      "2  September 10, 2021         2021  TV-MA     87 min   \n",
      "3        July 6, 2021         2019  TV-MA  3 Seasons   \n",
      "4        July 6, 2021         2019  TV-MA  3 Seasons   \n",
      "\n",
      "                                 listed_in  \\\n",
      "0     Anime Series, International TV Shows   \n",
      "1                              TV Comedies   \n",
      "2          International Movies, Thrillers   \n",
      "3  Crime TV Shows, TV Horror, TV Mysteries   \n",
      "4  Crime TV Shows, TV Horror, TV Mysteries   \n",
      "\n",
      "                                         description  \n",
      "0  With his hometown in ruins, young Eren Yeager ...  \n",
      "1  Years after getting his girlfriend pregnant, w...  \n",
      "2  A hiking trip into the wild turns into a despe...  \n",
      "3  In this new TV series sequel to the classic ho...  \n",
      "4  In this new TV series sequel to the classic ho...  \n",
      "\n",
      "[5 rows x 24 columns]\n"
     ]
    }
   ],
   "source": [
    "import pandas as pd\n",
    "\n",
    "#Upload datasets\n",
    "data1 = pd.read_csv('netflix_titles.csv');\n",
    "data2 = pd.read_csv('imdb_movies.csv');\n",
    "\n",
    "#Show first 5 lines\n",
    "merged_data = pd.merge(data2, data1, left_on='names', right_on='title')\n",
    "print(merged_data.head())"
   ]
  },
  {
   "cell_type": "code",
   "execution_count": 129,
   "id": "3cdf3749-57db-42f6-9683-6054d99f6333",
   "metadata": {},
   "outputs": [
    {
     "data": {
      "text/plain": [
       "(1641, 24)"
      ]
     },
     "execution_count": 129,
     "metadata": {},
     "output_type": "execute_result"
    }
   ],
   "source": [
    "merged_data.shape"
   ]
  },
  {
   "cell_type": "code",
   "execution_count": 130,
   "id": "a6014c97-b24f-4ab5-999a-b21f998c3813",
   "metadata": {},
   "outputs": [
    {
     "data": {
      "text/plain": [
       "Index(['names', 'date_x', 'score', 'genre', 'overview', 'crew', 'orig_title',\n",
       "       'status', 'orig_lang', 'budget_x', 'revenue', 'country_x', 'show_id',\n",
       "       'type', 'title', 'director', 'cast', 'country_y', 'date_added',\n",
       "       'release_year', 'rating', 'duration', 'listed_in', 'description'],\n",
       "      dtype='object')"
      ]
     },
     "execution_count": 130,
     "metadata": {},
     "output_type": "execute_result"
    }
   ],
   "source": [
    "merged_data.columns"
   ]
  },
  {
   "cell_type": "code",
   "execution_count": 131,
   "id": "05d74be5-e5bd-4642-93d3-cf80b717e477",
   "metadata": {},
   "outputs": [],
   "source": [
    "cleaned_data = merged_data.dropna(subset=['score','budget_x','director','cast','revenue'])\n"
   ]
  },
  {
   "cell_type": "code",
   "execution_count": 132,
   "id": "64cbe519-f3b9-4d55-9229-05b9dafd1940",
   "metadata": {},
   "outputs": [
    {
     "data": {
      "text/plain": [
       "(1492, 24)"
      ]
     },
     "execution_count": 132,
     "metadata": {},
     "output_type": "execute_result"
    }
   ],
   "source": [
    "cleaned_data.shape\n"
   ]
  },
  {
   "cell_type": "code",
   "execution_count": 133,
   "id": "589931b5-93eb-49b8-b309-2cff8b0b9fb4",
   "metadata": {},
   "outputs": [
    {
     "data": {
      "text/plain": [
       "Index(['names', 'date_x', 'score', 'genre', 'overview', 'crew', 'orig_title',\n",
       "       'status', 'orig_lang', 'budget_x', 'revenue', 'country_x', 'show_id',\n",
       "       'type', 'title', 'director', 'cast', 'country_y', 'date_added',\n",
       "       'release_year', 'rating', 'duration', 'listed_in', 'description'],\n",
       "      dtype='object')"
      ]
     },
     "execution_count": 133,
     "metadata": {},
     "output_type": "execute_result"
    }
   ],
   "source": [
    "cleaned_data.columns"
   ]
  },
  {
   "cell_type": "code",
   "execution_count": 134,
   "id": "bd12ca42-09b2-407b-8fd4-93cfb07afa82",
   "metadata": {},
   "outputs": [
    {
     "name": "stdout",
     "output_type": "stream",
     "text": [
      "<class 'pandas.core.frame.DataFrame'>\n",
      "Index: 1492 entries, 2 to 1640\n",
      "Data columns (total 24 columns):\n",
      " #   Column        Non-Null Count  Dtype  \n",
      "---  ------        --------------  -----  \n",
      " 0   names         1492 non-null   object \n",
      " 1   date_x        1492 non-null   object \n",
      " 2   score         1492 non-null   float64\n",
      " 3   genre         1490 non-null   object \n",
      " 4   overview      1492 non-null   object \n",
      " 5   crew          1491 non-null   object \n",
      " 6   orig_title    1492 non-null   object \n",
      " 7   status        1492 non-null   object \n",
      " 8   orig_lang     1492 non-null   object \n",
      " 9   budget_x      1492 non-null   float64\n",
      " 10  revenue       1492 non-null   float64\n",
      " 11  country_x     1492 non-null   object \n",
      " 12  show_id       1492 non-null   object \n",
      " 13  type          1492 non-null   object \n",
      " 14  title         1492 non-null   object \n",
      " 15  director      1492 non-null   object \n",
      " 16  cast          1492 non-null   object \n",
      " 17  country_y     1446 non-null   object \n",
      " 18  date_added    1492 non-null   object \n",
      " 19  release_year  1492 non-null   int64  \n",
      " 20  rating        1492 non-null   object \n",
      " 21  duration      1492 non-null   object \n",
      " 22  listed_in     1492 non-null   object \n",
      " 23  description   1492 non-null   object \n",
      "dtypes: float64(3), int64(1), object(20)\n",
      "memory usage: 291.4+ KB\n",
      "None\n"
     ]
    }
   ],
   "source": [
    "print(cleaned_data.info())"
   ]
  },
  {
   "cell_type": "code",
   "execution_count": 135,
   "id": "222a80ff-9f60-452f-8536-7c58e41cf8ae",
   "metadata": {},
   "outputs": [
    {
     "data": {
      "text/html": [
       "<div>\n",
       "<style scoped>\n",
       "    .dataframe tbody tr th:only-of-type {\n",
       "        vertical-align: middle;\n",
       "    }\n",
       "\n",
       "    .dataframe tbody tr th {\n",
       "        vertical-align: top;\n",
       "    }\n",
       "\n",
       "    .dataframe thead th {\n",
       "        text-align: right;\n",
       "    }\n",
       "</style>\n",
       "<table border=\"1\" class=\"dataframe\">\n",
       "  <thead>\n",
       "    <tr style=\"text-align: right;\">\n",
       "      <th></th>\n",
       "      <th>names</th>\n",
       "      <th>date_x</th>\n",
       "      <th>score</th>\n",
       "      <th>genre</th>\n",
       "      <th>overview</th>\n",
       "      <th>crew</th>\n",
       "      <th>orig_title</th>\n",
       "      <th>status</th>\n",
       "      <th>orig_lang</th>\n",
       "      <th>budget_x</th>\n",
       "      <th>...</th>\n",
       "      <th>title</th>\n",
       "      <th>director</th>\n",
       "      <th>cast</th>\n",
       "      <th>country_y</th>\n",
       "      <th>date_added</th>\n",
       "      <th>release_year</th>\n",
       "      <th>rating</th>\n",
       "      <th>duration</th>\n",
       "      <th>listed_in</th>\n",
       "      <th>description</th>\n",
       "    </tr>\n",
       "  </thead>\n",
       "  <tbody>\n",
       "    <tr>\n",
       "      <th>2</th>\n",
       "      <td>Prey</td>\n",
       "      <td>08/05/2022</td>\n",
       "      <td>78.0</td>\n",
       "      <td>Thriller, Action, Science Fiction</td>\n",
       "      <td>When danger threatens her camp, the fierce and...</td>\n",
       "      <td>Amber Midthunder, Naru, Dakota Beavers, Taabe,...</td>\n",
       "      <td>Prey</td>\n",
       "      <td>Released</td>\n",
       "      <td>English</td>\n",
       "      <td>65000000.0</td>\n",
       "      <td>...</td>\n",
       "      <td>Prey</td>\n",
       "      <td>Thomas Sieben</td>\n",
       "      <td>David Kross, Hanno Koffler, Maria Ehrich, Robe...</td>\n",
       "      <td>NaN</td>\n",
       "      <td>September 10, 2021</td>\n",
       "      <td>2021</td>\n",
       "      <td>TV-MA</td>\n",
       "      <td>87 min</td>\n",
       "      <td>International Movies, Thrillers</td>\n",
       "      <td>A hiking trip into the wild turns into a despe...</td>\n",
       "    </tr>\n",
       "    <tr>\n",
       "      <th>5</th>\n",
       "      <td>Avengers: Infinity War</td>\n",
       "      <td>04/25/2018</td>\n",
       "      <td>83.0</td>\n",
       "      <td>Adventure, Action, Science Fiction</td>\n",
       "      <td>As the Avengers and their allies have continue...</td>\n",
       "      <td>Robert Downey Jr., Tony Stark / Iron Man, Chri...</td>\n",
       "      <td>Avengers: Infinity War</td>\n",
       "      <td>Released</td>\n",
       "      <td>English</td>\n",
       "      <td>300000000.0</td>\n",
       "      <td>...</td>\n",
       "      <td>Avengers: Infinity War</td>\n",
       "      <td>Anthony Russo, Joe Russo</td>\n",
       "      <td>Robert Downey Jr., Josh Brolin, Mark Ruffalo, ...</td>\n",
       "      <td>United States</td>\n",
       "      <td>December 25, 2018</td>\n",
       "      <td>2018</td>\n",
       "      <td>PG-13</td>\n",
       "      <td>150 min</td>\n",
       "      <td>Action &amp; Adventure, Sci-Fi &amp; Fantasy</td>\n",
       "      <td>Superheroes amass to stop intergalactic sociop...</td>\n",
       "    </tr>\n",
       "    <tr>\n",
       "      <th>6</th>\n",
       "      <td>Murder Mystery</td>\n",
       "      <td>05/25/2019</td>\n",
       "      <td>63.0</td>\n",
       "      <td>Comedy, Mystery</td>\n",
       "      <td>On a long-awaited trip to Europe, a New York C...</td>\n",
       "      <td>Adam Sandler, Nick Spitz, Jennifer Aniston, Au...</td>\n",
       "      <td>Murder Mystery</td>\n",
       "      <td>Released</td>\n",
       "      <td>English</td>\n",
       "      <td>24000000.0</td>\n",
       "      <td>...</td>\n",
       "      <td>Murder Mystery</td>\n",
       "      <td>Kyle Newacheck</td>\n",
       "      <td>Adam Sandler, Jennifer Aniston, Luke Evans, Ge...</td>\n",
       "      <td>United States</td>\n",
       "      <td>June 14, 2019</td>\n",
       "      <td>2019</td>\n",
       "      <td>PG-13</td>\n",
       "      <td>98 min</td>\n",
       "      <td>Comedies</td>\n",
       "      <td>On a long-awaited trip to Europe, a New York C...</td>\n",
       "    </tr>\n",
       "    <tr>\n",
       "      <th>8</th>\n",
       "      <td>Coraline</td>\n",
       "      <td>08/06/2009</td>\n",
       "      <td>78.0</td>\n",
       "      <td>Animation, Family, Fantasy</td>\n",
       "      <td>A young girl discovers an idealized parallel u...</td>\n",
       "      <td>Dakota Fanning, Coraline Jones (voice), Teri H...</td>\n",
       "      <td>Coraline</td>\n",
       "      <td>Released</td>\n",
       "      <td>English</td>\n",
       "      <td>60000000.0</td>\n",
       "      <td>...</td>\n",
       "      <td>Coraline</td>\n",
       "      <td>Henry Selick</td>\n",
       "      <td>Dakota Fanning, Teri Hatcher, John Hodgman, Je...</td>\n",
       "      <td>United States</td>\n",
       "      <td>March 16, 2017</td>\n",
       "      <td>2009</td>\n",
       "      <td>PG</td>\n",
       "      <td>101 min</td>\n",
       "      <td>Children &amp; Family Movies</td>\n",
       "      <td>Curious young Coraline unlocks a door in her f...</td>\n",
       "    </tr>\n",
       "    <tr>\n",
       "      <th>10</th>\n",
       "      <td>The Little Mermaid</td>\n",
       "      <td>05/26/2023</td>\n",
       "      <td>0.0</td>\n",
       "      <td>Adventure, Family, Fantasy, Romance</td>\n",
       "      <td>The youngest of King Triton’s daughters, and t...</td>\n",
       "      <td>Halle Bailey, Ariel, Jonah Hauer-King, Prince ...</td>\n",
       "      <td>The Little Mermaid</td>\n",
       "      <td>Post Production</td>\n",
       "      <td>English</td>\n",
       "      <td>205000000.0</td>\n",
       "      <td>...</td>\n",
       "      <td>The Little Mermaid</td>\n",
       "      <td>Blake Harris, Chris Bouchard</td>\n",
       "      <td>William Moseley, Poppy Drayton, Loreto Peralta...</td>\n",
       "      <td>United States</td>\n",
       "      <td>December 1, 2018</td>\n",
       "      <td>2018</td>\n",
       "      <td>PG</td>\n",
       "      <td>85 min</td>\n",
       "      <td>Children &amp; Family Movies, Dramas</td>\n",
       "      <td>In this take on the classic tale, a captive ci...</td>\n",
       "    </tr>\n",
       "  </tbody>\n",
       "</table>\n",
       "<p>5 rows × 24 columns</p>\n",
       "</div>"
      ],
      "text/plain": [
       "                     names       date_x  score  \\\n",
       "2                     Prey  08/05/2022    78.0   \n",
       "5   Avengers: Infinity War  04/25/2018    83.0   \n",
       "6           Murder Mystery  05/25/2019    63.0   \n",
       "8                 Coraline  08/06/2009    78.0   \n",
       "10      The Little Mermaid  05/26/2023     0.0   \n",
       "\n",
       "                                  genre  \\\n",
       "2     Thriller, Action, Science Fiction   \n",
       "5    Adventure, Action, Science Fiction   \n",
       "6                       Comedy, Mystery   \n",
       "8            Animation, Family, Fantasy   \n",
       "10  Adventure, Family, Fantasy, Romance   \n",
       "\n",
       "                                             overview  \\\n",
       "2   When danger threatens her camp, the fierce and...   \n",
       "5   As the Avengers and their allies have continue...   \n",
       "6   On a long-awaited trip to Europe, a New York C...   \n",
       "8   A young girl discovers an idealized parallel u...   \n",
       "10  The youngest of King Triton’s daughters, and t...   \n",
       "\n",
       "                                                 crew              orig_title  \\\n",
       "2   Amber Midthunder, Naru, Dakota Beavers, Taabe,...                    Prey   \n",
       "5   Robert Downey Jr., Tony Stark / Iron Man, Chri...  Avengers: Infinity War   \n",
       "6   Adam Sandler, Nick Spitz, Jennifer Aniston, Au...          Murder Mystery   \n",
       "8   Dakota Fanning, Coraline Jones (voice), Teri H...                Coraline   \n",
       "10  Halle Bailey, Ariel, Jonah Hauer-King, Prince ...      The Little Mermaid   \n",
       "\n",
       "              status orig_lang     budget_x  ...                   title  \\\n",
       "2           Released   English   65000000.0  ...                    Prey   \n",
       "5           Released   English  300000000.0  ...  Avengers: Infinity War   \n",
       "6           Released   English   24000000.0  ...          Murder Mystery   \n",
       "8           Released   English   60000000.0  ...                Coraline   \n",
       "10   Post Production   English  205000000.0  ...      The Little Mermaid   \n",
       "\n",
       "                        director  \\\n",
       "2                  Thomas Sieben   \n",
       "5       Anthony Russo, Joe Russo   \n",
       "6                 Kyle Newacheck   \n",
       "8                   Henry Selick   \n",
       "10  Blake Harris, Chris Bouchard   \n",
       "\n",
       "                                                 cast      country_y  \\\n",
       "2   David Kross, Hanno Koffler, Maria Ehrich, Robe...            NaN   \n",
       "5   Robert Downey Jr., Josh Brolin, Mark Ruffalo, ...  United States   \n",
       "6   Adam Sandler, Jennifer Aniston, Luke Evans, Ge...  United States   \n",
       "8   Dakota Fanning, Teri Hatcher, John Hodgman, Je...  United States   \n",
       "10  William Moseley, Poppy Drayton, Loreto Peralta...  United States   \n",
       "\n",
       "            date_added release_year rating duration  \\\n",
       "2   September 10, 2021         2021  TV-MA   87 min   \n",
       "5    December 25, 2018         2018  PG-13  150 min   \n",
       "6        June 14, 2019         2019  PG-13   98 min   \n",
       "8       March 16, 2017         2009     PG  101 min   \n",
       "10    December 1, 2018         2018     PG   85 min   \n",
       "\n",
       "                               listed_in  \\\n",
       "2        International Movies, Thrillers   \n",
       "5   Action & Adventure, Sci-Fi & Fantasy   \n",
       "6                               Comedies   \n",
       "8               Children & Family Movies   \n",
       "10      Children & Family Movies, Dramas   \n",
       "\n",
       "                                          description  \n",
       "2   A hiking trip into the wild turns into a despe...  \n",
       "5   Superheroes amass to stop intergalactic sociop...  \n",
       "6   On a long-awaited trip to Europe, a New York C...  \n",
       "8   Curious young Coraline unlocks a door in her f...  \n",
       "10  In this take on the classic tale, a captive ci...  \n",
       "\n",
       "[5 rows x 24 columns]"
      ]
     },
     "execution_count": 135,
     "metadata": {},
     "output_type": "execute_result"
    }
   ],
   "source": [
    "cleaned_data.head()"
   ]
  },
  {
   "cell_type": "code",
   "execution_count": 136,
   "id": "87d100b5-2f93-4a45-9251-9f2a083a9bb1",
   "metadata": {},
   "outputs": [
    {
     "name": "stdout",
     "output_type": "stream",
     "text": [
      "names                                      Avengers: Infinity War\n",
      "date_x                                                04/25/2018 \n",
      "score                                                        83.0\n",
      "genre                          Adventure, Action, Science Fiction\n",
      "overview        As the Avengers and their allies have continue...\n",
      "crew            Robert Downey Jr., Tony Stark / Iron Man, Chri...\n",
      "orig_title                                 Avengers: Infinity War\n",
      "status                                                   Released\n",
      "orig_lang                                                 English\n",
      "budget_x                                              300000000.0\n",
      "revenue                                              2048359754.0\n",
      "country_x                                                      AU\n",
      "show_id                                                     s6201\n",
      "type                                                        Movie\n",
      "title                                      Avengers: Infinity War\n",
      "director                                 Anthony Russo, Joe Russo\n",
      "cast            Robert Downey Jr., Josh Brolin, Mark Ruffalo, ...\n",
      "country_y                                           United States\n",
      "date_added                                      December 25, 2018\n",
      "release_year                                                 2018\n",
      "rating                                                      PG-13\n",
      "duration                                                  150 min\n",
      "listed_in                    Action & Adventure, Sci-Fi & Fantasy\n",
      "description     Superheroes amass to stop intergalactic sociop...\n",
      "Name: 5, dtype: object\n"
     ]
    },
    {
     "data": {
      "text/plain": [
       "(1492, 24)"
      ]
     },
     "execution_count": 136,
     "metadata": {},
     "output_type": "execute_result"
    }
   ],
   "source": [
    "avenger=cleaned_data.iloc[1]\n",
    "print(avenger)\n",
    "cleaned_data.shape"
   ]
  },
  {
   "cell_type": "code",
   "execution_count": 137,
   "id": "b02f293a",
   "metadata": {},
   "outputs": [
    {
     "name": "stdout",
     "output_type": "stream",
     "text": [
      "David Kross, Hanno Koffler, Maria Ehrich, Robert Finster, Yung Ngo, Klaus Steinbacher, Livia Matthes, Nellie Thalbach\n"
     ]
    }
   ],
   "source": [
    "\n",
    "print(cleaned_data.iloc[0]['cast'])\n"
   ]
  },
  {
   "cell_type": "code",
   "execution_count": 138,
   "id": "affc6eb6",
   "metadata": {},
   "outputs": [
    {
     "name": "stdout",
     "output_type": "stream",
     "text": [
      "                     names       date_x  score  \\\n",
      "2                     Prey  08/05/2022    78.0   \n",
      "5   Avengers: Infinity War  04/25/2018    83.0   \n",
      "6           Murder Mystery  05/25/2019    63.0   \n",
      "8                 Coraline  08/06/2009    78.0   \n",
      "10      The Little Mermaid  05/26/2023     0.0   \n",
      "\n",
      "                                  genre  \\\n",
      "2     Thriller, Action, Science Fiction   \n",
      "5    Adventure, Action, Science Fiction   \n",
      "6                       Comedy, Mystery   \n",
      "8            Animation, Family, Fantasy   \n",
      "10  Adventure, Family, Fantasy, Romance   \n",
      "\n",
      "                                             overview  \\\n",
      "2   When danger threatens her camp, the fierce and...   \n",
      "5   As the Avengers and their allies have continue...   \n",
      "6   On a long-awaited trip to Europe, a New York C...   \n",
      "8   A young girl discovers an idealized parallel u...   \n",
      "10  The youngest of King Triton’s daughters, and t...   \n",
      "\n",
      "                                                 crew              orig_title  \\\n",
      "2   Amber Midthunder, Naru, Dakota Beavers, Taabe,...                    Prey   \n",
      "5   Robert Downey Jr., Tony Stark / Iron Man, Chri...  Avengers: Infinity War   \n",
      "6   Adam Sandler, Nick Spitz, Jennifer Aniston, Au...          Murder Mystery   \n",
      "8   Dakota Fanning, Coraline Jones (voice), Teri H...                Coraline   \n",
      "10  Halle Bailey, Ariel, Jonah Hauer-King, Prince ...      The Little Mermaid   \n",
      "\n",
      "              status orig_lang     budget_x  ...  actor_35 actor_36 actor_37  \\\n",
      "2           Released   English   65000000.0  ...      None     None     None   \n",
      "5           Released   English  300000000.0  ...      None     None     None   \n",
      "6           Released   English   24000000.0  ...      None     None     None   \n",
      "8           Released   English   60000000.0  ...      None     None     None   \n",
      "10   Post Production   English  205000000.0  ...      None     None     None   \n",
      "\n",
      "   actor_38 actor_39 actor_40 actor_41 actor_42  actor_43 actor_44  \n",
      "2      None     None     None     None     None      None     None  \n",
      "5      None     None     None     None     None      None     None  \n",
      "6      None     None     None     None     None      None     None  \n",
      "8      None     None     None     None     None      None     None  \n",
      "10     None     None     None     None     None      None     None  \n",
      "\n",
      "[5 rows x 67 columns]\n"
     ]
    }
   ],
   "source": [
    "# Create new DataFrame by separating the 'cast' column with a comma\n",
    "cast_expanded = cleaned_data['cast'].str.split(',', expand=True)\n",
    "\n",
    "# Name the new columns 'actor_1', 'actor_2', ...\n",
    "cast_expanded.columns = [f'actor_{i+1}' for i in range(cast_expanded.shape[1])]\n",
    "\n",
    "# Add new columns to original DataFrame\n",
    "cleaned_data = pd.concat([cleaned_data, cast_expanded], axis=1)\n",
    "\n",
    "# remove 'cast' column (optional)\n",
    "cleaned_data.drop('cast', axis=1, inplace=True)\n",
    "\n",
    "# Show results\n",
    "print(cleaned_data.head())"
   ]
  },
  {
   "cell_type": "code",
   "execution_count": 139,
   "id": "ad4cde51",
   "metadata": {},
   "outputs": [
    {
     "name": "stdout",
     "output_type": "stream",
     "text": [
      "<class 'pandas.core.frame.DataFrame'>\n",
      "Index: 1492 entries, 2 to 1640\n",
      "Data columns (total 28 columns):\n",
      " #   Column        Non-Null Count  Dtype  \n",
      "---  ------        --------------  -----  \n",
      " 0   names         1492 non-null   object \n",
      " 1   date_x        1492 non-null   object \n",
      " 2   score         1492 non-null   float64\n",
      " 3   genre         1490 non-null   object \n",
      " 4   overview      1492 non-null   object \n",
      " 5   crew          1491 non-null   object \n",
      " 6   orig_title    1492 non-null   object \n",
      " 7   status        1492 non-null   object \n",
      " 8   orig_lang     1492 non-null   object \n",
      " 9   budget_x      1492 non-null   float64\n",
      " 10  revenue       1492 non-null   float64\n",
      " 11  country_x     1492 non-null   object \n",
      " 12  show_id       1492 non-null   object \n",
      " 13  type          1492 non-null   object \n",
      " 14  title         1492 non-null   object \n",
      " 15  director      1492 non-null   object \n",
      " 16  country_y     1446 non-null   object \n",
      " 17  date_added    1492 non-null   object \n",
      " 18  release_year  1492 non-null   int64  \n",
      " 19  rating        1492 non-null   object \n",
      " 20  duration      1492 non-null   object \n",
      " 21  listed_in     1492 non-null   object \n",
      " 22  description   1492 non-null   object \n",
      " 23  actor_1       1492 non-null   object \n",
      " 24  actor_2       1480 non-null   object \n",
      " 25  actor_3       1471 non-null   object \n",
      " 26  actor_4       1453 non-null   object \n",
      " 27  actor_5       1431 non-null   object \n",
      "dtypes: float64(3), int64(1), object(24)\n",
      "memory usage: 338.0+ KB\n",
      "None\n"
     ]
    }
   ],
   "source": [
    "# Remove columns other than top 5 actors\n",
    "cleaned_data = cleaned_data[cleaned_data.columns.drop(list(cleaned_data.filter(regex='actor_[6-9]|actor_[1-9][0-9]')))]\n",
    "\n",
    "\n",
    "# Review of results\n",
    "print(cleaned_data.info())\n"
   ]
  },
  {
   "cell_type": "code",
   "execution_count": 140,
   "id": "37949a37-a34b-4ded-a823-430049f17c88",
   "metadata": {},
   "outputs": [
    {
     "name": "stdout",
     "output_type": "stream",
     "text": [
      "names                                      Avengers: Infinity War\n",
      "date_x                                                04/25/2018 \n",
      "score                                                        83.0\n",
      "genre                          Adventure, Action, Science Fiction\n",
      "overview        As the Avengers and their allies have continue...\n",
      "crew            Robert Downey Jr., Tony Stark / Iron Man, Chri...\n",
      "orig_title                                 Avengers: Infinity War\n",
      "status                                                   Released\n",
      "orig_lang                                                 English\n",
      "budget_x                                              300000000.0\n",
      "revenue                                              2048359754.0\n",
      "country_x                                                      AU\n",
      "show_id                                                     s6201\n",
      "type                                                        Movie\n",
      "title                                      Avengers: Infinity War\n",
      "director                                 Anthony Russo, Joe Russo\n",
      "country_y                                           United States\n",
      "date_added                                      December 25, 2018\n",
      "release_year                                                 2018\n",
      "rating                                                      PG-13\n",
      "duration                                                  150 min\n",
      "listed_in                    Action & Adventure, Sci-Fi & Fantasy\n",
      "description     Superheroes amass to stop intergalactic sociop...\n",
      "actor_1                                         Robert Downey Jr.\n",
      "actor_2                                               Josh Brolin\n",
      "actor_3                                              Mark Ruffalo\n",
      "actor_4                                            Tom Hiddleston\n",
      "actor_5                                               Chris Evans\n",
      "Name: 5, dtype: object\n"
     ]
    },
    {
     "data": {
      "text/plain": [
       "(1492, 28)"
      ]
     },
     "execution_count": 140,
     "metadata": {},
     "output_type": "execute_result"
    }
   ],
   "source": [
    "avenger=cleaned_data.iloc[1]\n",
    "print(avenger)\n",
    "cleaned_data.shape"
   ]
  },
  {
   "cell_type": "code",
   "execution_count": 141,
   "id": "e212df6a",
   "metadata": {},
   "outputs": [
    {
     "name": "stdout",
     "output_type": "stream",
     "text": [
      "names            object\n",
      "date_x           object\n",
      "score           float64\n",
      "genre            object\n",
      "overview         object\n",
      "crew             object\n",
      "orig_title       object\n",
      "status           object\n",
      "orig_lang        object\n",
      "budget_x        float64\n",
      "revenue         float64\n",
      "country_x        object\n",
      "show_id          object\n",
      "type             object\n",
      "title            object\n",
      "director         object\n",
      "country_y        object\n",
      "date_added       object\n",
      "release_year      int64\n",
      "rating           object\n",
      "duration         object\n",
      "listed_in        object\n",
      "description      object\n",
      "actor_1          object\n",
      "actor_2          object\n",
      "actor_3          object\n",
      "actor_4          object\n",
      "actor_5          object\n",
      "dtype: object\n"
     ]
    }
   ],
   "source": [
    "# Print data types of columns\n",
    "print(cleaned_data.dtypes)"
   ]
  },
  {
   "cell_type": "code",
   "execution_count": 142,
   "id": "7f3f160f",
   "metadata": {},
   "outputs": [
    {
     "name": "stdout",
     "output_type": "stream",
     "text": [
      "names                                      Avengers: Infinity War\n",
      "date_x                                                04/25/2018 \n",
      "score                                                        83.0\n",
      "genre                          Adventure, Action, Science Fiction\n",
      "overview        As the Avengers and their allies have continue...\n",
      "crew            Robert Downey Jr., Tony Stark / Iron Man, Chri...\n",
      "orig_title                                 Avengers: Infinity War\n",
      "status                                                   Released\n",
      "orig_lang                                                 English\n",
      "budget_x                                              300000000.0\n",
      "revenue                                              2048359754.0\n",
      "country_x                                                      AU\n",
      "show_id                                                     s6201\n",
      "type                                                        Movie\n",
      "title                                      Avengers: Infinity War\n",
      "director                                 Anthony Russo, Joe Russo\n",
      "country_y                                           United States\n",
      "date_added                                      December 25, 2018\n",
      "release_year                                                 2018\n",
      "rating                                                      PG-13\n",
      "duration                                                  150 min\n",
      "listed_in                    Action & Adventure, Sci-Fi & Fantasy\n",
      "description     Superheroes amass to stop intergalactic sociop...\n",
      "actor_1                                         Robert Downey Jr.\n",
      "actor_2                                               Josh Brolin\n",
      "actor_3                                              Mark Ruffalo\n",
      "actor_4                                            Tom Hiddleston\n",
      "actor_5                                               Chris Evans\n",
      "Name: 5, dtype: object\n"
     ]
    },
    {
     "data": {
      "text/plain": [
       "(1492, 28)"
      ]
     },
     "execution_count": 142,
     "metadata": {},
     "output_type": "execute_result"
    }
   ],
   "source": [
    "avenger=cleaned_data.iloc[1]\n",
    "print(avenger)\n",
    "cleaned_data.shape"
   ]
  },
  {
   "cell_type": "code",
   "execution_count": 143,
   "id": "e9a0eb47",
   "metadata": {},
   "outputs": [],
   "source": [
    "# Filter and remove rows containing 'Seasons' in 'duration' column\n",
    "cleaned_data = cleaned_data[~cleaned_data['duration'].str.contains('Season')]\n",
    "\n",
    "# Remove 'min' in 'duration' column and convert to numeric value\n",
    "cleaned_data['duration'] = cleaned_data['duration'].str.replace(' min', '').astype(int)"
   ]
  },
  {
   "cell_type": "code",
   "execution_count": 144,
   "id": "fd316c8a",
   "metadata": {},
   "outputs": [],
   "source": [
    "# Delete related columns\n",
    "cleaned_data.drop(['country_y', 'date_added', 'date_x'], axis=1, inplace=True)"
   ]
  },
  {
   "cell_type": "code",
   "execution_count": 145,
   "id": "7443708e",
   "metadata": {},
   "outputs": [],
   "source": [
    "# Delete related columns\n",
    "cleaned_data.drop(['title', 'orig_title'], axis=1, inplace=True)"
   ]
  },
  {
   "cell_type": "code",
   "execution_count": 146,
   "id": "aa67f7e7",
   "metadata": {},
   "outputs": [
    {
     "name": "stdout",
     "output_type": "stream",
     "text": [
      "names                                      Avengers: Infinity War\n",
      "score                                                        83.0\n",
      "genre                          Adventure, Action, Science Fiction\n",
      "overview        As the Avengers and their allies have continue...\n",
      "crew            Robert Downey Jr., Tony Stark / Iron Man, Chri...\n",
      "status                                                   Released\n",
      "orig_lang                                                 English\n",
      "budget_x                                              300000000.0\n",
      "revenue                                              2048359754.0\n",
      "country_x                                                      AU\n",
      "show_id                                                     s6201\n",
      "type                                                        Movie\n",
      "director                                 Anthony Russo, Joe Russo\n",
      "release_year                                                 2018\n",
      "rating                                                      PG-13\n",
      "duration                                                      150\n",
      "listed_in                    Action & Adventure, Sci-Fi & Fantasy\n",
      "description     Superheroes amass to stop intergalactic sociop...\n",
      "actor_1                                         Robert Downey Jr.\n",
      "actor_2                                               Josh Brolin\n",
      "actor_3                                              Mark Ruffalo\n",
      "actor_4                                            Tom Hiddleston\n",
      "actor_5                                               Chris Evans\n",
      "Name: 5, dtype: object\n"
     ]
    },
    {
     "data": {
      "text/plain": [
       "(1479, 23)"
      ]
     },
     "execution_count": 146,
     "metadata": {},
     "output_type": "execute_result"
    }
   ],
   "source": [
    "avenger=cleaned_data.iloc[1]\n",
    "print(avenger)\n",
    "cleaned_data.shape"
   ]
  },
  {
   "cell_type": "code",
   "execution_count": 147,
   "id": "6eeebf86",
   "metadata": {},
   "outputs": [
    {
     "data": {
      "text/html": [
       "<div>\n",
       "<style scoped>\n",
       "    .dataframe tbody tr th:only-of-type {\n",
       "        vertical-align: middle;\n",
       "    }\n",
       "\n",
       "    .dataframe tbody tr th {\n",
       "        vertical-align: top;\n",
       "    }\n",
       "\n",
       "    .dataframe thead th {\n",
       "        text-align: right;\n",
       "    }\n",
       "</style>\n",
       "<table border=\"1\" class=\"dataframe\">\n",
       "  <thead>\n",
       "    <tr style=\"text-align: right;\">\n",
       "      <th></th>\n",
       "      <th>names</th>\n",
       "      <th>score</th>\n",
       "      <th>genre</th>\n",
       "      <th>overview</th>\n",
       "      <th>crew</th>\n",
       "      <th>status</th>\n",
       "      <th>orig_lang</th>\n",
       "      <th>budget_x</th>\n",
       "      <th>revenue</th>\n",
       "      <th>country_x</th>\n",
       "      <th>...</th>\n",
       "      <th>release_year</th>\n",
       "      <th>rating</th>\n",
       "      <th>duration</th>\n",
       "      <th>listed_in</th>\n",
       "      <th>description</th>\n",
       "      <th>actor_1</th>\n",
       "      <th>actor_2</th>\n",
       "      <th>actor_3</th>\n",
       "      <th>actor_4</th>\n",
       "      <th>actor_5</th>\n",
       "    </tr>\n",
       "  </thead>\n",
       "  <tbody>\n",
       "    <tr>\n",
       "      <th>2</th>\n",
       "      <td>Prey</td>\n",
       "      <td>78.0</td>\n",
       "      <td>Thriller, Action, Science Fiction</td>\n",
       "      <td>When danger threatens her camp, the fierce and...</td>\n",
       "      <td>Amber Midthunder, Naru, Dakota Beavers, Taabe,...</td>\n",
       "      <td>Released</td>\n",
       "      <td>English</td>\n",
       "      <td>65000000.0</td>\n",
       "      <td>0.000000e+00</td>\n",
       "      <td>AU</td>\n",
       "      <td>...</td>\n",
       "      <td>2021</td>\n",
       "      <td>TV-MA</td>\n",
       "      <td>87</td>\n",
       "      <td>International Movies, Thrillers</td>\n",
       "      <td>A hiking trip into the wild turns into a despe...</td>\n",
       "      <td>David Kross</td>\n",
       "      <td>Hanno Koffler</td>\n",
       "      <td>Maria Ehrich</td>\n",
       "      <td>Robert Finster</td>\n",
       "      <td>Yung Ngo</td>\n",
       "    </tr>\n",
       "    <tr>\n",
       "      <th>5</th>\n",
       "      <td>Avengers: Infinity War</td>\n",
       "      <td>83.0</td>\n",
       "      <td>Adventure, Action, Science Fiction</td>\n",
       "      <td>As the Avengers and their allies have continue...</td>\n",
       "      <td>Robert Downey Jr., Tony Stark / Iron Man, Chri...</td>\n",
       "      <td>Released</td>\n",
       "      <td>English</td>\n",
       "      <td>300000000.0</td>\n",
       "      <td>2.048360e+09</td>\n",
       "      <td>AU</td>\n",
       "      <td>...</td>\n",
       "      <td>2018</td>\n",
       "      <td>PG-13</td>\n",
       "      <td>150</td>\n",
       "      <td>Action &amp; Adventure, Sci-Fi &amp; Fantasy</td>\n",
       "      <td>Superheroes amass to stop intergalactic sociop...</td>\n",
       "      <td>Robert Downey Jr.</td>\n",
       "      <td>Josh Brolin</td>\n",
       "      <td>Mark Ruffalo</td>\n",
       "      <td>Tom Hiddleston</td>\n",
       "      <td>Chris Evans</td>\n",
       "    </tr>\n",
       "    <tr>\n",
       "      <th>6</th>\n",
       "      <td>Murder Mystery</td>\n",
       "      <td>63.0</td>\n",
       "      <td>Comedy, Mystery</td>\n",
       "      <td>On a long-awaited trip to Europe, a New York C...</td>\n",
       "      <td>Adam Sandler, Nick Spitz, Jennifer Aniston, Au...</td>\n",
       "      <td>Released</td>\n",
       "      <td>English</td>\n",
       "      <td>24000000.0</td>\n",
       "      <td>2.058096e+08</td>\n",
       "      <td>AU</td>\n",
       "      <td>...</td>\n",
       "      <td>2019</td>\n",
       "      <td>PG-13</td>\n",
       "      <td>98</td>\n",
       "      <td>Comedies</td>\n",
       "      <td>On a long-awaited trip to Europe, a New York C...</td>\n",
       "      <td>Adam Sandler</td>\n",
       "      <td>Jennifer Aniston</td>\n",
       "      <td>Luke Evans</td>\n",
       "      <td>Gemma Arterton</td>\n",
       "      <td>Adeel Akhtar</td>\n",
       "    </tr>\n",
       "    <tr>\n",
       "      <th>8</th>\n",
       "      <td>Coraline</td>\n",
       "      <td>78.0</td>\n",
       "      <td>Animation, Family, Fantasy</td>\n",
       "      <td>A young girl discovers an idealized parallel u...</td>\n",
       "      <td>Dakota Fanning, Coraline Jones (voice), Teri H...</td>\n",
       "      <td>Released</td>\n",
       "      <td>English</td>\n",
       "      <td>60000000.0</td>\n",
       "      <td>1.260371e+08</td>\n",
       "      <td>AU</td>\n",
       "      <td>...</td>\n",
       "      <td>2009</td>\n",
       "      <td>PG</td>\n",
       "      <td>101</td>\n",
       "      <td>Children &amp; Family Movies</td>\n",
       "      <td>Curious young Coraline unlocks a door in her f...</td>\n",
       "      <td>Dakota Fanning</td>\n",
       "      <td>Teri Hatcher</td>\n",
       "      <td>John Hodgman</td>\n",
       "      <td>Jennifer Saunders</td>\n",
       "      <td>Dawn French</td>\n",
       "    </tr>\n",
       "    <tr>\n",
       "      <th>10</th>\n",
       "      <td>The Little Mermaid</td>\n",
       "      <td>0.0</td>\n",
       "      <td>Adventure, Family, Fantasy, Romance</td>\n",
       "      <td>The youngest of King Triton’s daughters, and t...</td>\n",
       "      <td>Halle Bailey, Ariel, Jonah Hauer-King, Prince ...</td>\n",
       "      <td>Post Production</td>\n",
       "      <td>English</td>\n",
       "      <td>205000000.0</td>\n",
       "      <td>1.783599e+08</td>\n",
       "      <td>US</td>\n",
       "      <td>...</td>\n",
       "      <td>2018</td>\n",
       "      <td>PG</td>\n",
       "      <td>85</td>\n",
       "      <td>Children &amp; Family Movies, Dramas</td>\n",
       "      <td>In this take on the classic tale, a captive ci...</td>\n",
       "      <td>William Moseley</td>\n",
       "      <td>Poppy Drayton</td>\n",
       "      <td>Loreto Peralta</td>\n",
       "      <td>Armando Gutierrez</td>\n",
       "      <td>Shirley MacLaine</td>\n",
       "    </tr>\n",
       "  </tbody>\n",
       "</table>\n",
       "<p>5 rows × 23 columns</p>\n",
       "</div>"
      ],
      "text/plain": [
       "                     names  score                                genre  \\\n",
       "2                     Prey   78.0    Thriller, Action, Science Fiction   \n",
       "5   Avengers: Infinity War   83.0   Adventure, Action, Science Fiction   \n",
       "6           Murder Mystery   63.0                      Comedy, Mystery   \n",
       "8                 Coraline   78.0           Animation, Family, Fantasy   \n",
       "10      The Little Mermaid    0.0  Adventure, Family, Fantasy, Romance   \n",
       "\n",
       "                                             overview  \\\n",
       "2   When danger threatens her camp, the fierce and...   \n",
       "5   As the Avengers and their allies have continue...   \n",
       "6   On a long-awaited trip to Europe, a New York C...   \n",
       "8   A young girl discovers an idealized parallel u...   \n",
       "10  The youngest of King Triton’s daughters, and t...   \n",
       "\n",
       "                                                 crew            status  \\\n",
       "2   Amber Midthunder, Naru, Dakota Beavers, Taabe,...          Released   \n",
       "5   Robert Downey Jr., Tony Stark / Iron Man, Chri...          Released   \n",
       "6   Adam Sandler, Nick Spitz, Jennifer Aniston, Au...          Released   \n",
       "8   Dakota Fanning, Coraline Jones (voice), Teri H...          Released   \n",
       "10  Halle Bailey, Ariel, Jonah Hauer-King, Prince ...   Post Production   \n",
       "\n",
       "   orig_lang     budget_x       revenue country_x  ... release_year rating  \\\n",
       "2    English   65000000.0  0.000000e+00        AU  ...         2021  TV-MA   \n",
       "5    English  300000000.0  2.048360e+09        AU  ...         2018  PG-13   \n",
       "6    English   24000000.0  2.058096e+08        AU  ...         2019  PG-13   \n",
       "8    English   60000000.0  1.260371e+08        AU  ...         2009     PG   \n",
       "10   English  205000000.0  1.783599e+08        US  ...         2018     PG   \n",
       "\n",
       "   duration                             listed_in  \\\n",
       "2        87       International Movies, Thrillers   \n",
       "5       150  Action & Adventure, Sci-Fi & Fantasy   \n",
       "6        98                              Comedies   \n",
       "8       101              Children & Family Movies   \n",
       "10       85      Children & Family Movies, Dramas   \n",
       "\n",
       "                                          description            actor_1  \\\n",
       "2   A hiking trip into the wild turns into a despe...        David Kross   \n",
       "5   Superheroes amass to stop intergalactic sociop...  Robert Downey Jr.   \n",
       "6   On a long-awaited trip to Europe, a New York C...       Adam Sandler   \n",
       "8   Curious young Coraline unlocks a door in her f...     Dakota Fanning   \n",
       "10  In this take on the classic tale, a captive ci...    William Moseley   \n",
       "\n",
       "              actor_2          actor_3             actor_4            actor_5  \n",
       "2       Hanno Koffler     Maria Ehrich      Robert Finster           Yung Ngo  \n",
       "5         Josh Brolin     Mark Ruffalo      Tom Hiddleston        Chris Evans  \n",
       "6    Jennifer Aniston       Luke Evans      Gemma Arterton       Adeel Akhtar  \n",
       "8        Teri Hatcher     John Hodgman   Jennifer Saunders        Dawn French  \n",
       "10      Poppy Drayton   Loreto Peralta   Armando Gutierrez   Shirley MacLaine  \n",
       "\n",
       "[5 rows x 23 columns]"
      ]
     },
     "execution_count": 147,
     "metadata": {},
     "output_type": "execute_result"
    }
   ],
   "source": [
    "cleaned_data.head()"
   ]
  },
  {
   "cell_type": "code",
   "execution_count": 148,
   "id": "fcf40aba",
   "metadata": {},
   "outputs": [
    {
     "name": "stdout",
     "output_type": "stream",
     "text": [
      "Index(['names', 'score', 'genre', 'overview', 'crew', 'status', 'orig_lang',\n",
      "       'budget_x', 'revenue', 'country_x', 'show_id', 'type', 'director',\n",
      "       'release_year', 'rating', 'duration', 'listed_in', 'description',\n",
      "       'actor_1', 'actor_2', 'actor_3', 'actor_4', 'actor_5'],\n",
      "      dtype='object')\n"
     ]
    }
   ],
   "source": [
    "# Show columns of the dataset\n",
    "print(cleaned_data.columns)"
   ]
  },
  {
   "cell_type": "code",
   "execution_count": 125,
   "id": "e38e73f4",
   "metadata": {},
   "outputs": [],
   "source": [
    "cleaned_data.to_csv('cleaned_data.csv', index=False)"
   ]
  },
  {
   "cell_type": "code",
   "execution_count": null,
   "id": "f4a93462-f954-46da-af0f-488f96236ece",
   "metadata": {},
   "outputs": [],
   "source": []
  }
 ],
 "metadata": {
  "kernelspec": {
   "display_name": "Python 3 (ipykernel)",
   "language": "python",
   "name": "python3"
  },
  "language_info": {
   "codemirror_mode": {
    "name": "ipython",
    "version": 3
   },
   "file_extension": ".py",
   "mimetype": "text/x-python",
   "name": "python",
   "nbconvert_exporter": "python",
   "pygments_lexer": "ipython3",
   "version": "3.12.1"
  }
 },
 "nbformat": 4,
 "nbformat_minor": 5
}
